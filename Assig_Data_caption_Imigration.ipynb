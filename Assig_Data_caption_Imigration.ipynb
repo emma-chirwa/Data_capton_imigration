{
 "cells": [
  {
   "cell_type": "markdown",
   "metadata": {},
   "source": [
    "# Reducing of International migration by 2040\n",
    "1.1 Background\n"
   ]
  },
  {
   "cell_type": "markdown",
   "metadata": {},
   "source": [
    "International migration involves people crossing state boundaries and staying in the host state for a minimum length of time. Migration occurs for many reasons. The overwhelming majority of people migrate internationally for reasons related to work, family and study. In contrast, other people leave their homes and countries for a range of compelling and sometimes tragic reasons, such as conflict, persecution and disaster. While those who have been displaced, such as refugees and internally displaced persons (IDPs), comprise a relatively small percentage of all migrants, they are often the most in need of assistance and support. International migration is the process of moving from one country to another.\n",
    ". Therefore, it is advantageous for countries to accurately predict how many International migration may have and compare the current number and the likely number to have in the future.\n"
   ]
  },
  {
   "cell_type": "markdown",
   "metadata": {},
   "source": [
    "# 1.2 Problem\n",
    "Data that might contribute to determining International migration might include the performance of an individual on academic, his age, his country of origin, his marital status, and his health condition .This project aims to predict how International migration may migrate and compare the current number and the likely number to have in the future based on these data\n"
   ]
  },
  {
   "cell_type": "markdown",
   "metadata": {},
   "source": [
    "# 1.3 Interest\n",
    "The United Nations  and each country in Africa would be happy to have Obviously, accurate prediction of International migration, for competitive advantage and business values. Others who are interested in such are government agencies of that country affected by it .\n",
    "Most International migration, data can be found in Wikipedia https://en.wikipedia.org/wiki/International_migration.  And  Immigration to Canada from 1980 to 2013 - International migration flows to and from selected countries in Africa .- The 2015 revision from United Nation's website.https://s3-api.us-geo.objectstorage.softlayer.net/cf-courses-data/CognitiveClass/DV0101EN/labs/Data_Files/Canada.xlsx\n",
    "\n",
    "\n"
   ]
  },
  {
   "cell_type": "markdown",
   "metadata": {},
   "source": [
    "# 2.2 Data cleaning\n",
    "Data downloaded or scraped from multiple sources were combined into one table. There were a lot of missing values from earlier seasons, because of lack of record keeping. I decided to only use data from 1980 to 2013, There are several problems with the datasets.I checked for outliers in the data. I found there were some extreme outliers, mostly caused by some types of small sample size problem. \n",
    "\n"
   ]
  },
  {
   "cell_type": "markdown",
   "metadata": {},
   "source": [
    "# 2.3 Feature selection\n",
    "After data was cleaned up to remove unnecessary columns (eg. AREA','REG','DEV'). It was clear that there was some redundancy in the features. \n"
   ]
  },
  {
   "cell_type": "code",
   "execution_count": null,
   "metadata": {},
   "outputs": [],
   "source": []
  }
 ],
 "metadata": {
  "kernelspec": {
   "display_name": "Python 3",
   "language": "python",
   "name": "python3"
  },
  "language_info": {
   "codemirror_mode": {
    "name": "ipython",
    "version": 3
   },
   "file_extension": ".py",
   "mimetype": "text/x-python",
   "name": "python",
   "nbconvert_exporter": "python",
   "pygments_lexer": "ipython3",
   "version": "3.7.1"
  }
 },
 "nbformat": 4,
 "nbformat_minor": 2
}
